{
 "cells": [
  {
   "cell_type": "code",
   "execution_count": 37,
   "id": "be8bf517-b8f5-4401-8776-203bb8041895",
   "metadata": {},
   "outputs": [],
   "source": [
    "import numpy as np # linear algebra\n",
    "import pandas as pd # data processing, CSV file I/O (e.g. pd.read_csv)\n",
    "import matplotlib.pyplot as plt\n",
    "import warnings\n",
    "import seaborn as sns\n",
    "from sklearn.linear_model import LinearRegression, Ridge, Lasso\n",
    "from sklearn.svm import SVR\n",
    "from sklearn.tree import DecisionTreeRegressor\n",
    "from sklearn.ensemble import RandomForestRegressor, GradientBoostingRegressor, AdaBoostRegressor\n",
    "import xgboost as xgb\n",
    "from sklearn.metrics import mean_squared_error, r2_score, accuracy_score, classification_report\n",
    "\n",
    "warnings.filterwarnings('ignore')"
   ]
  },
  {
   "cell_type": "code",
   "execution_count": 38,
   "id": "cfa8ada7-e9af-4bff-a9d9-1b5d71b906fd",
   "metadata": {},
   "outputs": [
    {
     "data": {
      "text/html": [
       "<div>\n",
       "<style scoped>\n",
       "    .dataframe tbody tr th:only-of-type {\n",
       "        vertical-align: middle;\n",
       "    }\n",
       "\n",
       "    .dataframe tbody tr th {\n",
       "        vertical-align: top;\n",
       "    }\n",
       "\n",
       "    .dataframe thead th {\n",
       "        text-align: right;\n",
       "    }\n",
       "</style>\n",
       "<table border=\"1\" class=\"dataframe\">\n",
       "  <thead>\n",
       "    <tr style=\"text-align: right;\">\n",
       "      <th></th>\n",
       "      <th>size</th>\n",
       "      <th>bath</th>\n",
       "      <th>balcony</th>\n",
       "      <th>price</th>\n",
       "      <th>per_sqft</th>\n",
       "      <th>price_per_sqft</th>\n",
       "      <th>area_type_Built-up  Area</th>\n",
       "      <th>area_type_Carpet  Area</th>\n",
       "      <th>area_type_Plot  Area</th>\n",
       "      <th>area_type_Super built-up  Area</th>\n",
       "      <th>...</th>\n",
       "      <th>location_Vijayanagar</th>\n",
       "      <th>location_Vishveshwarya Layout</th>\n",
       "      <th>location_Vishwapriya Layout</th>\n",
       "      <th>location_Vittasandra</th>\n",
       "      <th>location_Whitefield</th>\n",
       "      <th>location_Yelachenahalli</th>\n",
       "      <th>location_Yelahanka</th>\n",
       "      <th>location_Yelahanka New Town</th>\n",
       "      <th>location_Yelenahalli</th>\n",
       "      <th>location_Yeshwanthpur</th>\n",
       "    </tr>\n",
       "  </thead>\n",
       "  <tbody>\n",
       "    <tr>\n",
       "      <th>0</th>\n",
       "      <td>2.0</td>\n",
       "      <td>2.0</td>\n",
       "      <td>1.0</td>\n",
       "      <td>39.07</td>\n",
       "      <td>528.0</td>\n",
       "      <td>3699.810606</td>\n",
       "      <td>0.0</td>\n",
       "      <td>0.0</td>\n",
       "      <td>0.0</td>\n",
       "      <td>1.0</td>\n",
       "      <td>...</td>\n",
       "      <td>0.0</td>\n",
       "      <td>0.0</td>\n",
       "      <td>0.0</td>\n",
       "      <td>0.0</td>\n",
       "      <td>0.0</td>\n",
       "      <td>0.0</td>\n",
       "      <td>0.0</td>\n",
       "      <td>0.0</td>\n",
       "      <td>0.0</td>\n",
       "      <td>0.0</td>\n",
       "    </tr>\n",
       "    <tr>\n",
       "      <th>1</th>\n",
       "      <td>4.0</td>\n",
       "      <td>5.0</td>\n",
       "      <td>3.0</td>\n",
       "      <td>120.00</td>\n",
       "      <td>650.0</td>\n",
       "      <td>4615.384615</td>\n",
       "      <td>0.0</td>\n",
       "      <td>0.0</td>\n",
       "      <td>1.0</td>\n",
       "      <td>0.0</td>\n",
       "      <td>...</td>\n",
       "      <td>0.0</td>\n",
       "      <td>0.0</td>\n",
       "      <td>0.0</td>\n",
       "      <td>0.0</td>\n",
       "      <td>0.0</td>\n",
       "      <td>0.0</td>\n",
       "      <td>0.0</td>\n",
       "      <td>0.0</td>\n",
       "      <td>0.0</td>\n",
       "      <td>0.0</td>\n",
       "    </tr>\n",
       "    <tr>\n",
       "      <th>2</th>\n",
       "      <td>3.0</td>\n",
       "      <td>2.0</td>\n",
       "      <td>3.0</td>\n",
       "      <td>62.00</td>\n",
       "      <td>480.0</td>\n",
       "      <td>4305.555556</td>\n",
       "      <td>1.0</td>\n",
       "      <td>0.0</td>\n",
       "      <td>0.0</td>\n",
       "      <td>0.0</td>\n",
       "      <td>...</td>\n",
       "      <td>0.0</td>\n",
       "      <td>0.0</td>\n",
       "      <td>0.0</td>\n",
       "      <td>0.0</td>\n",
       "      <td>0.0</td>\n",
       "      <td>0.0</td>\n",
       "      <td>0.0</td>\n",
       "      <td>0.0</td>\n",
       "      <td>0.0</td>\n",
       "      <td>0.0</td>\n",
       "    </tr>\n",
       "    <tr>\n",
       "      <th>3</th>\n",
       "      <td>3.0</td>\n",
       "      <td>3.0</td>\n",
       "      <td>1.0</td>\n",
       "      <td>95.00</td>\n",
       "      <td>507.0</td>\n",
       "      <td>6245.890861</td>\n",
       "      <td>0.0</td>\n",
       "      <td>0.0</td>\n",
       "      <td>0.0</td>\n",
       "      <td>1.0</td>\n",
       "      <td>...</td>\n",
       "      <td>0.0</td>\n",
       "      <td>0.0</td>\n",
       "      <td>0.0</td>\n",
       "      <td>0.0</td>\n",
       "      <td>0.0</td>\n",
       "      <td>0.0</td>\n",
       "      <td>0.0</td>\n",
       "      <td>0.0</td>\n",
       "      <td>0.0</td>\n",
       "      <td>0.0</td>\n",
       "    </tr>\n",
       "    <tr>\n",
       "      <th>4</th>\n",
       "      <td>2.0</td>\n",
       "      <td>2.0</td>\n",
       "      <td>1.0</td>\n",
       "      <td>51.00</td>\n",
       "      <td>600.0</td>\n",
       "      <td>4250.000000</td>\n",
       "      <td>0.0</td>\n",
       "      <td>0.0</td>\n",
       "      <td>0.0</td>\n",
       "      <td>1.0</td>\n",
       "      <td>...</td>\n",
       "      <td>0.0</td>\n",
       "      <td>0.0</td>\n",
       "      <td>0.0</td>\n",
       "      <td>0.0</td>\n",
       "      <td>0.0</td>\n",
       "      <td>0.0</td>\n",
       "      <td>0.0</td>\n",
       "      <td>0.0</td>\n",
       "      <td>0.0</td>\n",
       "      <td>0.0</td>\n",
       "    </tr>\n",
       "  </tbody>\n",
       "</table>\n",
       "<p>5 rows × 255 columns</p>\n",
       "</div>"
      ],
      "text/plain": [
       "   size  bath  balcony   price  per_sqft  price_per_sqft  \\\n",
       "0   2.0   2.0      1.0   39.07     528.0     3699.810606   \n",
       "1   4.0   5.0      3.0  120.00     650.0     4615.384615   \n",
       "2   3.0   2.0      3.0   62.00     480.0     4305.555556   \n",
       "3   3.0   3.0      1.0   95.00     507.0     6245.890861   \n",
       "4   2.0   2.0      1.0   51.00     600.0     4250.000000   \n",
       "\n",
       "   area_type_Built-up  Area  area_type_Carpet  Area  area_type_Plot  Area  \\\n",
       "0                       0.0                     0.0                   0.0   \n",
       "1                       0.0                     0.0                   1.0   \n",
       "2                       1.0                     0.0                   0.0   \n",
       "3                       0.0                     0.0                   0.0   \n",
       "4                       0.0                     0.0                   0.0   \n",
       "\n",
       "   area_type_Super built-up  Area  ...  location_Vijayanagar  \\\n",
       "0                             1.0  ...                   0.0   \n",
       "1                             0.0  ...                   0.0   \n",
       "2                             0.0  ...                   0.0   \n",
       "3                             1.0  ...                   0.0   \n",
       "4                             1.0  ...                   0.0   \n",
       "\n",
       "   location_Vishveshwarya Layout  location_Vishwapriya Layout  \\\n",
       "0                            0.0                          0.0   \n",
       "1                            0.0                          0.0   \n",
       "2                            0.0                          0.0   \n",
       "3                            0.0                          0.0   \n",
       "4                            0.0                          0.0   \n",
       "\n",
       "   location_Vittasandra  location_Whitefield  location_Yelachenahalli  \\\n",
       "0                   0.0                  0.0                      0.0   \n",
       "1                   0.0                  0.0                      0.0   \n",
       "2                   0.0                  0.0                      0.0   \n",
       "3                   0.0                  0.0                      0.0   \n",
       "4                   0.0                  0.0                      0.0   \n",
       "\n",
       "   location_Yelahanka  location_Yelahanka New Town  location_Yelenahalli  \\\n",
       "0                 0.0                          0.0                   0.0   \n",
       "1                 0.0                          0.0                   0.0   \n",
       "2                 0.0                          0.0                   0.0   \n",
       "3                 0.0                          0.0                   0.0   \n",
       "4                 0.0                          0.0                   0.0   \n",
       "\n",
       "   location_Yeshwanthpur  \n",
       "0                    0.0  \n",
       "1                    0.0  \n",
       "2                    0.0  \n",
       "3                    0.0  \n",
       "4                    0.0  \n",
       "\n",
       "[5 rows x 255 columns]"
      ]
     },
     "execution_count": 38,
     "metadata": {},
     "output_type": "execute_result"
    }
   ],
   "source": [
    "df=pd.read_csv('datasets/clean_datasets.csv')\n",
    "df.head()"
   ]
  },
  {
   "cell_type": "code",
   "execution_count": 39,
   "id": "119f2bfc-88bf-4dbd-a5e6-d20018d0afb7",
   "metadata": {},
   "outputs": [],
   "source": [
    "x = df.drop(columns=['price'])  # Features (all columns except 'price')\n",
    "y = df['price'] "
   ]
  },
  {
   "cell_type": "code",
   "execution_count": null,
   "id": "4876cc43",
   "metadata": {},
   "outputs": [],
   "source": [
    "x['per_sqft'] = np.log1p(x['per_sqft'])\n",
    "x['price_per_sqft'] = np.log1p(x['price_per_sqft'])"
   ]
  },
  {
   "cell_type": "code",
   "execution_count": 41,
   "id": "65f08436-4cfd-4a02-8b52-297faf65c8f6",
   "metadata": {},
   "outputs": [],
   "source": [
    "from sklearn.model_selection import train_test_split\n",
    "x_train, x_test, y_train, y_test = train_test_split(x, y, test_size=0.33, random_state=42)"
   ]
  },
  {
   "cell_type": "code",
   "execution_count": 42,
   "id": "ce8c1fcb",
   "metadata": {},
   "outputs": [
    {
     "data": {
      "text/plain": [
       "(7030, 254)"
      ]
     },
     "execution_count": 42,
     "metadata": {},
     "output_type": "execute_result"
    }
   ],
   "source": [
    "x_train.shape"
   ]
  },
  {
   "cell_type": "code",
   "execution_count": 43,
   "id": "ac2e972d",
   "metadata": {},
   "outputs": [
    {
     "data": {
      "text/plain": [
       "pandas.core.frame.DataFrame"
      ]
     },
     "execution_count": 43,
     "metadata": {},
     "output_type": "execute_result"
    }
   ],
   "source": [
    "type(x_train)"
   ]
  },
  {
   "cell_type": "code",
   "execution_count": 6,
   "id": "719fca9a-d588-433e-b56f-ac278d87b072",
   "metadata": {},
   "outputs": [
    {
     "data": {
      "text/html": [
       "<div>\n",
       "<style scoped>\n",
       "    .dataframe tbody tr th:only-of-type {\n",
       "        vertical-align: middle;\n",
       "    }\n",
       "\n",
       "    .dataframe tbody tr th {\n",
       "        vertical-align: top;\n",
       "    }\n",
       "\n",
       "    .dataframe thead th {\n",
       "        text-align: right;\n",
       "    }\n",
       "</style>\n",
       "<table border=\"1\" class=\"dataframe\">\n",
       "  <thead>\n",
       "    <tr style=\"text-align: right;\">\n",
       "      <th></th>\n",
       "      <th>model</th>\n",
       "      <th>train_mse</th>\n",
       "      <th>test_mse</th>\n",
       "      <th>train_r2</th>\n",
       "      <th>test_r2</th>\n",
       "    </tr>\n",
       "  </thead>\n",
       "  <tbody>\n",
       "    <tr>\n",
       "      <th>0</th>\n",
       "      <td>linear_regression</td>\n",
       "      <td>1238.050536</td>\n",
       "      <td>1363.221873</td>\n",
       "      <td>0.878964</td>\n",
       "      <td>0.855110</td>\n",
       "    </tr>\n",
       "    <tr>\n",
       "      <th>1</th>\n",
       "      <td>ridge</td>\n",
       "      <td>1238.050767</td>\n",
       "      <td>1363.009469</td>\n",
       "      <td>0.878964</td>\n",
       "      <td>0.855133</td>\n",
       "    </tr>\n",
       "    <tr>\n",
       "      <th>2</th>\n",
       "      <td>lasso</td>\n",
       "      <td>1240.536992</td>\n",
       "      <td>1352.507921</td>\n",
       "      <td>0.878721</td>\n",
       "      <td>0.856249</td>\n",
       "    </tr>\n",
       "    <tr>\n",
       "      <th>3</th>\n",
       "      <td>svr</td>\n",
       "      <td>7755.630351</td>\n",
       "      <td>6800.693374</td>\n",
       "      <td>0.241785</td>\n",
       "      <td>0.277191</td>\n",
       "    </tr>\n",
       "    <tr>\n",
       "      <th>4</th>\n",
       "      <td>decision_tree</td>\n",
       "      <td>0.000000</td>\n",
       "      <td>467.708878</td>\n",
       "      <td>1.000000</td>\n",
       "      <td>0.950290</td>\n",
       "    </tr>\n",
       "    <tr>\n",
       "      <th>5</th>\n",
       "      <td>random_forest</td>\n",
       "      <td>51.980401</td>\n",
       "      <td>206.987126</td>\n",
       "      <td>0.994918</td>\n",
       "      <td>0.978000</td>\n",
       "    </tr>\n",
       "    <tr>\n",
       "      <th>6</th>\n",
       "      <td>xgboost</td>\n",
       "      <td>937.635024</td>\n",
       "      <td>899.104290</td>\n",
       "      <td>0.908334</td>\n",
       "      <td>0.904439</td>\n",
       "    </tr>\n",
       "    <tr>\n",
       "      <th>7</th>\n",
       "      <td>gradientboost</td>\n",
       "      <td>70.822589</td>\n",
       "      <td>146.659236</td>\n",
       "      <td>0.993076</td>\n",
       "      <td>0.984412</td>\n",
       "    </tr>\n",
       "    <tr>\n",
       "      <th>8</th>\n",
       "      <td>adaboost</td>\n",
       "      <td>6992.157520</td>\n",
       "      <td>7068.890144</td>\n",
       "      <td>0.316424</td>\n",
       "      <td>0.248686</td>\n",
       "    </tr>\n",
       "  </tbody>\n",
       "</table>\n",
       "</div>"
      ],
      "text/plain": [
       "               model    train_mse     test_mse  train_r2   test_r2\n",
       "0  linear_regression  1238.050536  1363.221873  0.878964  0.855110\n",
       "1              ridge  1238.050767  1363.009469  0.878964  0.855133\n",
       "2              lasso  1240.536992  1352.507921  0.878721  0.856249\n",
       "3                svr  7755.630351  6800.693374  0.241785  0.277191\n",
       "4      decision_tree     0.000000   467.708878  1.000000  0.950290\n",
       "5      random_forest    51.980401   206.987126  0.994918  0.978000\n",
       "6            xgboost   937.635024   899.104290  0.908334  0.904439\n",
       "7      gradientboost    70.822589   146.659236  0.993076  0.984412\n",
       "8           adaboost  6992.157520  7068.890144  0.316424  0.248686"
      ]
     },
     "execution_count": 6,
     "metadata": {},
     "output_type": "execute_result"
    }
   ],
   "source": [
    "# Train Model Function (updated for regression)\n",
    "def train_model(model, model_name, x_train, y_train, x_test, y_test, is_classification=True):\n",
    "    \n",
    "    # Fit the model on the training data\n",
    "    model.fit(x_train, y_train)\n",
    "    \n",
    "    # Predictions on the training data\n",
    "    y_train_pred = model.predict(x_train)\n",
    "    # Predictions on the testing data\n",
    "    y_test_pred = model.predict(x_test)\n",
    "    \n",
    "    # Collecting results in a dictionary\n",
    "    model_results = {\n",
    "        'model': model_name\n",
    "    }\n",
    "    \n",
    "    if is_classification:\n",
    "        # Classification metrics\n",
    "        train_accuracy = accuracy_score(y_train, y_train_pred)\n",
    "        test_accuracy = accuracy_score(y_test, y_test_pred)\n",
    "        model_results['train_accuracy'] = train_accuracy\n",
    "        model_results['test_accuracy'] = test_accuracy\n",
    "        \n",
    "        # Generate classification report for testing data (optional)\n",
    "        report = classification_report(y_test, y_test_pred, output_dict=True)\n",
    "        model_results['classification_report'] = report\n",
    "    else:\n",
    "        # Regression metrics\n",
    "        train_mse = mean_squared_error(y_train, y_train_pred)\n",
    "        test_mse = mean_squared_error(y_test, y_test_pred)\n",
    "        train_r2 = r2_score(y_train, y_train_pred)\n",
    "        test_r2 = r2_score(y_test, y_test_pred)\n",
    "        \n",
    "        model_results['train_mse'] = train_mse\n",
    "        model_results['test_mse'] = test_mse\n",
    "        model_results['train_r2'] = train_r2\n",
    "        model_results['test_r2'] = test_r2\n",
    "    \n",
    "    return model_results\n",
    "\n",
    "# List of models (for regression or classification tasks)\n",
    "model_list = dict(\n",
    "    linear_regression=LinearRegression(),\n",
    "    ridge=Ridge(alpha=1.0),\n",
    "    lasso=Lasso(alpha=0.1),\n",
    "    svr=SVR(kernel='rbf'),\n",
    "    decision_tree=DecisionTreeRegressor(random_state=42),\n",
    "    random_forest=RandomForestRegressor(n_estimators=50, random_state=42),\n",
    "    xgboost=xgb.XGBRegressor(max_depth=1),\n",
    "    gradientboost=GradientBoostingRegressor(n_estimators=100, random_state=42),\n",
    "    adaboost=AdaBoostRegressor(n_estimators=100, random_state=42),  # Added AdaBoost\n",
    ")\n",
    "\n",
    "# Assume you have your x_train, x_test, y_train, and y_test already defined\n",
    "results = []\n",
    "for key, value in model_list.items():\n",
    "    # Check if classification or regression model and train accordingly\n",
    "    is_classification =False  # change as per your use-case for classification vs regression\n",
    "    model_results = train_model(value, key, x_train, y_train, x_test, y_test, is_classification)\n",
    "    results.append(model_results)\n",
    "\n",
    "# Convert the results into a DataFrame\n",
    "results_df = pd.DataFrame(results)\n",
    "\n",
    "# Print or return the results DataFrame\n",
    "results_df"
   ]
  },
  {
   "cell_type": "code",
   "execution_count": null,
   "id": "cce8bae1",
   "metadata": {},
   "outputs": [],
   "source": []
  },
  {
   "cell_type": "code",
   "execution_count": null,
   "id": "84af3e57",
   "metadata": {},
   "outputs": [],
   "source": []
  },
  {
   "cell_type": "code",
   "execution_count": 7,
   "id": "eb0e100f-eb38-49cc-98dc-ab5206d2c589",
   "metadata": {},
   "outputs": [
    {
     "name": "stdout",
     "output_type": "stream",
     "text": [
      "train_r2 0.9083337977550651\n",
      "test_r2 0.9044390454961065\n"
     ]
    }
   ],
   "source": [
    "model=xgb.XGBRegressor(max_depth=1)\n",
    "model.fit(x_train, y_train)\n",
    "# Predictions on the training data\n",
    "y_train_pred = model.predict(x_train)\n",
    "# Predictions on the testing data\n",
    "y_test_pred = model.predict(x_test)\n",
    "train_mse = mean_squared_error(y_train, y_train_pred)\n",
    "test_mse = mean_squared_error(y_test, y_test_pred)\n",
    "train_r2 = r2_score(y_train, y_train_pred)\n",
    "test_r2 = r2_score(y_test, y_test_pred)\n",
    "print('train_r2',train_r2)\n",
    "print('test_r2',test_r2)"
   ]
  },
  {
   "cell_type": "code",
   "execution_count": 8,
   "id": "b19765d4-6fbb-4da5-b545-71d4e3ed6e86",
   "metadata": {},
   "outputs": [
    {
     "data": {
      "text/plain": [
       "array([50.43488], dtype=float32)"
      ]
     },
     "execution_count": 8,
     "metadata": {},
     "output_type": "execute_result"
    }
   ],
   "source": [
    "model.predict(x[2].reshape(1,-1))"
   ]
  },
  {
   "cell_type": "code",
   "execution_count": 45,
   "id": "a9bab7f1-43d1-42dc-83e7-6b5c992815c4",
   "metadata": {},
   "outputs": [
    {
     "name": "stdout",
     "output_type": "stream",
     "text": [
      "Epoch 1/100\n",
      "\u001b[1m198/198\u001b[0m \u001b[32m━━━━━━━━━━━━━━━━━━━━\u001b[0m\u001b[37m\u001b[0m \u001b[1m3s\u001b[0m 7ms/step - loss: 16387.0039 - mae: 82.0990 - val_loss: 8817.7109 - val_mae: 54.5785\n",
      "Epoch 2/100\n",
      "\u001b[1m198/198\u001b[0m \u001b[32m━━━━━━━━━━━━━━━━━━━━\u001b[0m\u001b[37m\u001b[0m \u001b[1m1s\u001b[0m 6ms/step - loss: 8989.5977 - mae: 56.0295 - val_loss: 7395.6338 - val_mae: 52.7824\n",
      "Epoch 3/100\n",
      "\u001b[1m198/198\u001b[0m \u001b[32m━━━━━━━━━━━━━━━━━━━━\u001b[0m\u001b[37m\u001b[0m \u001b[1m2s\u001b[0m 10ms/step - loss: 7136.5493 - mae: 47.7842 - val_loss: 5493.2261 - val_mae: 43.2589\n",
      "Epoch 4/100\n",
      "\u001b[1m198/198\u001b[0m \u001b[32m━━━━━━━━━━━━━━━━━━━━\u001b[0m\u001b[37m\u001b[0m \u001b[1m2s\u001b[0m 8ms/step - loss: 5871.1987 - mae: 41.9303 - val_loss: 4584.3955 - val_mae: 40.1777\n",
      "Epoch 5/100\n",
      "\u001b[1m198/198\u001b[0m \u001b[32m━━━━━━━━━━━━━━━━━━━━\u001b[0m\u001b[37m\u001b[0m \u001b[1m2s\u001b[0m 9ms/step - loss: 5010.2598 - mae: 38.8394 - val_loss: 4368.8369 - val_mae: 39.4500\n",
      "Epoch 6/100\n",
      "\u001b[1m198/198\u001b[0m \u001b[32m━━━━━━━━━━━━━━━━━━━━\u001b[0m\u001b[37m\u001b[0m \u001b[1m2s\u001b[0m 10ms/step - loss: 5310.4429 - mae: 39.0821 - val_loss: 4404.5947 - val_mae: 36.9259\n",
      "Epoch 7/100\n",
      "\u001b[1m198/198\u001b[0m \u001b[32m━━━━━━━━━━━━━━━━━━━━\u001b[0m\u001b[37m\u001b[0m \u001b[1m2s\u001b[0m 10ms/step - loss: 5411.6841 - mae: 37.4856 - val_loss: 4117.8408 - val_mae: 37.5783\n",
      "Epoch 8/100\n",
      "\u001b[1m198/198\u001b[0m \u001b[32m━━━━━━━━━━━━━━━━━━━━\u001b[0m\u001b[37m\u001b[0m \u001b[1m2s\u001b[0m 8ms/step - loss: 4687.9917 - mae: 35.6287 - val_loss: 4030.9797 - val_mae: 35.2917\n",
      "Epoch 9/100\n",
      "\u001b[1m198/198\u001b[0m \u001b[32m━━━━━━━━━━━━━━━━━━━━\u001b[0m\u001b[37m\u001b[0m \u001b[1m2s\u001b[0m 11ms/step - loss: 4897.4678 - mae: 35.9196 - val_loss: 3928.8755 - val_mae: 36.1689\n",
      "Epoch 10/100\n",
      "\u001b[1m198/198\u001b[0m \u001b[32m━━━━━━━━━━━━━━━━━━━━\u001b[0m\u001b[37m\u001b[0m \u001b[1m2s\u001b[0m 8ms/step - loss: 4575.8740 - mae: 35.4052 - val_loss: 3843.4026 - val_mae: 34.7687\n",
      "Epoch 11/100\n",
      "\u001b[1m198/198\u001b[0m \u001b[32m━━━━━━━━━━━━━━━━━━━━\u001b[0m\u001b[37m\u001b[0m \u001b[1m1s\u001b[0m 6ms/step - loss: 4192.1152 - mae: 34.3806 - val_loss: 3788.2478 - val_mae: 35.8653\n",
      "Epoch 12/100\n",
      "\u001b[1m198/198\u001b[0m \u001b[32m━━━━━━━━━━━━━━━━━━━━\u001b[0m\u001b[37m\u001b[0m \u001b[1m1s\u001b[0m 7ms/step - loss: 5005.3765 - mae: 36.3373 - val_loss: 3685.6917 - val_mae: 34.5817\n",
      "Epoch 13/100\n",
      "\u001b[1m198/198\u001b[0m \u001b[32m━━━━━━━━━━━━━━━━━━━━\u001b[0m\u001b[37m\u001b[0m \u001b[1m2s\u001b[0m 8ms/step - loss: 4715.5474 - mae: 35.0349 - val_loss: 3739.4978 - val_mae: 36.9959\n",
      "Epoch 14/100\n",
      "\u001b[1m198/198\u001b[0m \u001b[32m━━━━━━━━━━━━━━━━━━━━\u001b[0m\u001b[37m\u001b[0m \u001b[1m1s\u001b[0m 7ms/step - loss: 4234.3413 - mae: 33.9726 - val_loss: 3542.2346 - val_mae: 32.9065\n",
      "Epoch 15/100\n",
      "\u001b[1m198/198\u001b[0m \u001b[32m━━━━━━━━━━━━━━━━━━━━\u001b[0m\u001b[37m\u001b[0m \u001b[1m1s\u001b[0m 7ms/step - loss: 4305.1929 - mae: 33.6865 - val_loss: 3481.3115 - val_mae: 32.7326\n",
      "Epoch 16/100\n",
      "\u001b[1m198/198\u001b[0m \u001b[32m━━━━━━━━━━━━━━━━━━━━\u001b[0m\u001b[37m\u001b[0m \u001b[1m2s\u001b[0m 9ms/step - loss: 4286.1123 - mae: 33.1877 - val_loss: 3437.9080 - val_mae: 33.4775\n",
      "Epoch 17/100\n",
      "\u001b[1m198/198\u001b[0m \u001b[32m━━━━━━━━━━━━━━━━━━━━\u001b[0m\u001b[37m\u001b[0m \u001b[1m2s\u001b[0m 8ms/step - loss: 4002.1731 - mae: 33.0074 - val_loss: 3379.2283 - val_mae: 31.9179\n",
      "Epoch 18/100\n",
      "\u001b[1m198/198\u001b[0m \u001b[32m━━━━━━━━━━━━━━━━━━━━\u001b[0m\u001b[37m\u001b[0m \u001b[1m2s\u001b[0m 9ms/step - loss: 3913.6108 - mae: 32.4142 - val_loss: 3307.9885 - val_mae: 32.0176\n",
      "Epoch 19/100\n",
      "\u001b[1m198/198\u001b[0m \u001b[32m━━━━━━━━━━━━━━━━━━━━\u001b[0m\u001b[37m\u001b[0m \u001b[1m2s\u001b[0m 7ms/step - loss: 4164.7642 - mae: 32.7845 - val_loss: 3264.4534 - val_mae: 31.8489\n",
      "Epoch 20/100\n",
      "\u001b[1m198/198\u001b[0m \u001b[32m━━━━━━━━━━━━━━━━━━━━\u001b[0m\u001b[37m\u001b[0m \u001b[1m1s\u001b[0m 7ms/step - loss: 3860.8435 - mae: 31.2122 - val_loss: 3214.7197 - val_mae: 31.0041\n",
      "Epoch 21/100\n",
      "\u001b[1m198/198\u001b[0m \u001b[32m━━━━━━━━━━━━━━━━━━━━\u001b[0m\u001b[37m\u001b[0m \u001b[1m1s\u001b[0m 6ms/step - loss: 4111.5083 - mae: 32.1146 - val_loss: 3209.3569 - val_mae: 30.3105\n",
      "Epoch 22/100\n",
      "\u001b[1m198/198\u001b[0m \u001b[32m━━━━━━━━━━━━━━━━━━━━\u001b[0m\u001b[37m\u001b[0m \u001b[1m1s\u001b[0m 6ms/step - loss: 3825.4893 - mae: 31.1912 - val_loss: 3121.2031 - val_mae: 30.8461\n",
      "Epoch 23/100\n",
      "\u001b[1m198/198\u001b[0m \u001b[32m━━━━━━━━━━━━━━━━━━━━\u001b[0m\u001b[37m\u001b[0m \u001b[1m2s\u001b[0m 7ms/step - loss: 3889.4983 - mae: 31.8432 - val_loss: 3091.8872 - val_mae: 30.3525\n",
      "Epoch 24/100\n",
      "\u001b[1m198/198\u001b[0m \u001b[32m━━━━━━━━━━━━━━━━━━━━\u001b[0m\u001b[37m\u001b[0m \u001b[1m2s\u001b[0m 7ms/step - loss: 3785.1765 - mae: 31.1260 - val_loss: 3039.1892 - val_mae: 30.3916\n",
      "Epoch 25/100\n",
      "\u001b[1m198/198\u001b[0m \u001b[32m━━━━━━━━━━━━━━━━━━━━\u001b[0m\u001b[37m\u001b[0m \u001b[1m2s\u001b[0m 8ms/step - loss: 3325.0469 - mae: 30.4940 - val_loss: 2991.8186 - val_mae: 29.5445\n",
      "Epoch 26/100\n",
      "\u001b[1m198/198\u001b[0m \u001b[32m━━━━━━━━━━━━━━━━━━━━\u001b[0m\u001b[37m\u001b[0m \u001b[1m1s\u001b[0m 5ms/step - loss: 3258.7549 - mae: 29.1965 - val_loss: 3096.3975 - val_mae: 32.8552\n",
      "Epoch 27/100\n",
      "\u001b[1m198/198\u001b[0m \u001b[32m━━━━━━━━━━━━━━━━━━━━\u001b[0m\u001b[37m\u001b[0m \u001b[1m1s\u001b[0m 6ms/step - loss: 3298.9775 - mae: 29.7678 - val_loss: 2915.5146 - val_mae: 29.5536\n",
      "Epoch 28/100\n",
      "\u001b[1m198/198\u001b[0m \u001b[32m━━━━━━━━━━━━━━━━━━━━\u001b[0m\u001b[37m\u001b[0m \u001b[1m2s\u001b[0m 8ms/step - loss: 3296.1797 - mae: 28.7486 - val_loss: 3045.5808 - val_mae: 29.7578\n",
      "Epoch 29/100\n",
      "\u001b[1m198/198\u001b[0m \u001b[32m━━━━━━━━━━━━━━━━━━━━\u001b[0m\u001b[37m\u001b[0m \u001b[1m1s\u001b[0m 7ms/step - loss: 3776.5640 - mae: 31.2301 - val_loss: 2903.8359 - val_mae: 28.7880\n",
      "Epoch 30/100\n",
      "\u001b[1m198/198\u001b[0m \u001b[32m━━━━━━━━━━━━━━━━━━━━\u001b[0m\u001b[37m\u001b[0m \u001b[1m2s\u001b[0m 8ms/step - loss: 2994.1606 - mae: 27.2771 - val_loss: 2877.3606 - val_mae: 30.0183\n",
      "Epoch 31/100\n",
      "\u001b[1m198/198\u001b[0m \u001b[32m━━━━━━━━━━━━━━━━━━━━\u001b[0m\u001b[37m\u001b[0m \u001b[1m2s\u001b[0m 8ms/step - loss: 3606.7444 - mae: 29.8649 - val_loss: 2763.1812 - val_mae: 28.2785\n",
      "Epoch 32/100\n",
      "\u001b[1m198/198\u001b[0m \u001b[32m━━━━━━━━━━━━━━━━━━━━\u001b[0m\u001b[37m\u001b[0m \u001b[1m1s\u001b[0m 7ms/step - loss: 3376.2947 - mae: 28.6919 - val_loss: 2714.7991 - val_mae: 27.2095\n",
      "Epoch 33/100\n",
      "\u001b[1m198/198\u001b[0m \u001b[32m━━━━━━━━━━━━━━━━━━━━\u001b[0m\u001b[37m\u001b[0m \u001b[1m2s\u001b[0m 8ms/step - loss: 2622.7158 - mae: 25.9281 - val_loss: 2683.6423 - val_mae: 27.1710\n",
      "Epoch 34/100\n",
      "\u001b[1m198/198\u001b[0m \u001b[32m━━━━━━━━━━━━━━━━━━━━\u001b[0m\u001b[37m\u001b[0m \u001b[1m2s\u001b[0m 8ms/step - loss: 2879.4717 - mae: 26.4984 - val_loss: 2685.8877 - val_mae: 27.5192\n",
      "Epoch 35/100\n",
      "\u001b[1m198/198\u001b[0m \u001b[32m━━━━━━━━━━━━━━━━━━━━\u001b[0m\u001b[37m\u001b[0m \u001b[1m2s\u001b[0m 7ms/step - loss: 2944.6860 - mae: 26.2973 - val_loss: 2675.3420 - val_mae: 26.4703\n",
      "Epoch 36/100\n",
      "\u001b[1m198/198\u001b[0m \u001b[32m━━━━━━━━━━━━━━━━━━━━\u001b[0m\u001b[37m\u001b[0m \u001b[1m1s\u001b[0m 5ms/step - loss: 3115.2615 - mae: 26.6730 - val_loss: 2639.9353 - val_mae: 27.4893\n",
      "Epoch 37/100\n",
      "\u001b[1m198/198\u001b[0m \u001b[32m━━━━━━━━━━━━━━━━━━━━\u001b[0m\u001b[37m\u001b[0m \u001b[1m1s\u001b[0m 6ms/step - loss: 3025.1877 - mae: 26.8097 - val_loss: 2597.9556 - val_mae: 25.7449\n",
      "Epoch 38/100\n",
      "\u001b[1m198/198\u001b[0m \u001b[32m━━━━━━━━━━━━━━━━━━━━\u001b[0m\u001b[37m\u001b[0m \u001b[1m1s\u001b[0m 6ms/step - loss: 2638.4690 - mae: 25.3227 - val_loss: 2516.0730 - val_mae: 25.2049\n",
      "Epoch 39/100\n",
      "\u001b[1m198/198\u001b[0m \u001b[32m━━━━━━━━━━━━━━━━━━━━\u001b[0m\u001b[37m\u001b[0m \u001b[1m1s\u001b[0m 6ms/step - loss: 2922.3301 - mae: 26.0456 - val_loss: 3101.5024 - val_mae: 35.6399\n",
      "Epoch 40/100\n",
      "\u001b[1m198/198\u001b[0m \u001b[32m━━━━━━━━━━━━━━━━━━━━\u001b[0m\u001b[37m\u001b[0m \u001b[1m1s\u001b[0m 5ms/step - loss: 2640.3960 - mae: 25.6884 - val_loss: 2448.0369 - val_mae: 24.5278\n",
      "Epoch 41/100\n",
      "\u001b[1m198/198\u001b[0m \u001b[32m━━━━━━━━━━━━━━━━━━━━\u001b[0m\u001b[37m\u001b[0m \u001b[1m1s\u001b[0m 6ms/step - loss: 2418.8179 - mae: 23.6538 - val_loss: 2446.4451 - val_mae: 25.2278\n",
      "Epoch 42/100\n",
      "\u001b[1m198/198\u001b[0m \u001b[32m━━━━━━━━━━━━━━━━━━━━\u001b[0m\u001b[37m\u001b[0m \u001b[1m1s\u001b[0m 6ms/step - loss: 2299.3215 - mae: 22.8741 - val_loss: 2389.9363 - val_mae: 23.9058\n",
      "Epoch 43/100\n",
      "\u001b[1m198/198\u001b[0m \u001b[32m━━━━━━━━━━━━━━━━━━━━\u001b[0m\u001b[37m\u001b[0m \u001b[1m1s\u001b[0m 6ms/step - loss: 2362.3167 - mae: 23.8279 - val_loss: 2475.2393 - val_mae: 26.4232\n",
      "Epoch 44/100\n",
      "\u001b[1m198/198\u001b[0m \u001b[32m━━━━━━━━━━━━━━━━━━━━\u001b[0m\u001b[37m\u001b[0m \u001b[1m2s\u001b[0m 7ms/step - loss: 2320.7898 - mae: 23.2197 - val_loss: 2345.4534 - val_mae: 24.2298\n",
      "Epoch 45/100\n",
      "\u001b[1m198/198\u001b[0m \u001b[32m━━━━━━━━━━━━━━━━━━━━\u001b[0m\u001b[37m\u001b[0m \u001b[1m1s\u001b[0m 4ms/step - loss: 2477.3926 - mae: 23.1216 - val_loss: 2275.3066 - val_mae: 23.2019\n",
      "Epoch 46/100\n",
      "\u001b[1m198/198\u001b[0m \u001b[32m━━━━━━━━━━━━━━━━━━━━\u001b[0m\u001b[37m\u001b[0m \u001b[1m1s\u001b[0m 7ms/step - loss: 2082.4270 - mae: 21.9037 - val_loss: 2234.2258 - val_mae: 22.3452\n",
      "Epoch 47/100\n",
      "\u001b[1m198/198\u001b[0m \u001b[32m━━━━━━━━━━━━━━━━━━━━\u001b[0m\u001b[37m\u001b[0m \u001b[1m2s\u001b[0m 8ms/step - loss: 2384.7715 - mae: 21.7233 - val_loss: 2200.3201 - val_mae: 21.9451\n",
      "Epoch 48/100\n",
      "\u001b[1m198/198\u001b[0m \u001b[32m━━━━━━━━━━━━━━━━━━━━\u001b[0m\u001b[37m\u001b[0m \u001b[1m1s\u001b[0m 7ms/step - loss: 2297.8215 - mae: 21.7823 - val_loss: 2169.5989 - val_mae: 21.5003\n",
      "Epoch 49/100\n",
      "\u001b[1m198/198\u001b[0m \u001b[32m━━━━━━━━━━━━━━━━━━━━\u001b[0m\u001b[37m\u001b[0m \u001b[1m1s\u001b[0m 5ms/step - loss: 2355.3088 - mae: 21.5298 - val_loss: 2169.6182 - val_mae: 22.9132\n",
      "Epoch 50/100\n",
      "\u001b[1m198/198\u001b[0m \u001b[32m━━━━━━━━━━━━━━━━━━━━\u001b[0m\u001b[37m\u001b[0m \u001b[1m1s\u001b[0m 7ms/step - loss: 1759.3347 - mae: 19.5691 - val_loss: 2174.9487 - val_mae: 24.4827\n",
      "Epoch 51/100\n",
      "\u001b[1m198/198\u001b[0m \u001b[32m━━━━━━━━━━━━━━━━━━━━\u001b[0m\u001b[37m\u001b[0m \u001b[1m2s\u001b[0m 7ms/step - loss: 2287.6084 - mae: 22.7659 - val_loss: 2016.5385 - val_mae: 20.2890\n",
      "Epoch 52/100\n",
      "\u001b[1m198/198\u001b[0m \u001b[32m━━━━━━━━━━━━━━━━━━━━\u001b[0m\u001b[37m\u001b[0m \u001b[1m1s\u001b[0m 7ms/step - loss: 2021.5828 - mae: 19.8232 - val_loss: 2162.9231 - val_mae: 23.9994\n",
      "Epoch 53/100\n",
      "\u001b[1m198/198\u001b[0m \u001b[32m━━━━━━━━━━━━━━━━━━━━\u001b[0m\u001b[37m\u001b[0m \u001b[1m1s\u001b[0m 6ms/step - loss: 1803.0300 - mae: 19.2053 - val_loss: 1934.7297 - val_mae: 19.6834\n",
      "Epoch 54/100\n",
      "\u001b[1m198/198\u001b[0m \u001b[32m━━━━━━━━━━━━━━━━━━━━\u001b[0m\u001b[37m\u001b[0m \u001b[1m1s\u001b[0m 7ms/step - loss: 1793.0909 - mae: 19.3604 - val_loss: 1906.7145 - val_mae: 19.5357\n",
      "Epoch 55/100\n",
      "\u001b[1m198/198\u001b[0m \u001b[32m━━━━━━━━━━━━━━━━━━━━\u001b[0m\u001b[37m\u001b[0m \u001b[1m2s\u001b[0m 7ms/step - loss: 2312.9709 - mae: 20.0206 - val_loss: 1881.2322 - val_mae: 19.3568\n",
      "Epoch 56/100\n",
      "\u001b[1m198/198\u001b[0m \u001b[32m━━━━━━━━━━━━━━━━━━━━\u001b[0m\u001b[37m\u001b[0m \u001b[1m1s\u001b[0m 5ms/step - loss: 2095.6667 - mae: 19.5052 - val_loss: 1839.8601 - val_mae: 18.6633\n",
      "Epoch 57/100\n",
      "\u001b[1m198/198\u001b[0m \u001b[32m━━━━━━━━━━━━━━━━━━━━\u001b[0m\u001b[37m\u001b[0m \u001b[1m1s\u001b[0m 6ms/step - loss: 1785.9818 - mae: 17.9460 - val_loss: 1809.8875 - val_mae: 19.5202\n",
      "Epoch 58/100\n",
      "\u001b[1m198/198\u001b[0m \u001b[32m━━━━━━━━━━━━━━━━━━━━\u001b[0m\u001b[37m\u001b[0m \u001b[1m1s\u001b[0m 6ms/step - loss: 1543.8618 - mae: 17.1710 - val_loss: 1860.8346 - val_mae: 21.7369\n",
      "Epoch 59/100\n",
      "\u001b[1m198/198\u001b[0m \u001b[32m━━━━━━━━━━━━━━━━━━━━\u001b[0m\u001b[37m\u001b[0m \u001b[1m1s\u001b[0m 5ms/step - loss: 1748.4299 - mae: 18.2828 - val_loss: 1745.7480 - val_mae: 18.6017\n",
      "Epoch 60/100\n",
      "\u001b[1m198/198\u001b[0m \u001b[32m━━━━━━━━━━━━━━━━━━━━\u001b[0m\u001b[37m\u001b[0m \u001b[1m1s\u001b[0m 5ms/step - loss: 1620.2797 - mae: 18.1033 - val_loss: 1664.0748 - val_mae: 17.1762\n",
      "Epoch 61/100\n",
      "\u001b[1m198/198\u001b[0m \u001b[32m━━━━━━━━━━━━━━━━━━━━\u001b[0m\u001b[37m\u001b[0m \u001b[1m1s\u001b[0m 5ms/step - loss: 1436.0156 - mae: 16.2074 - val_loss: 1644.5510 - val_mae: 17.6434\n",
      "Epoch 62/100\n",
      "\u001b[1m198/198\u001b[0m \u001b[32m━━━━━━━━━━━━━━━━━━━━\u001b[0m\u001b[37m\u001b[0m \u001b[1m1s\u001b[0m 5ms/step - loss: 1699.5232 - mae: 18.2418 - val_loss: 1563.5542 - val_mae: 16.3580\n",
      "Epoch 63/100\n",
      "\u001b[1m198/198\u001b[0m \u001b[32m━━━━━━━━━━━━━━━━━━━━\u001b[0m\u001b[37m\u001b[0m \u001b[1m1s\u001b[0m 6ms/step - loss: 1352.8123 - mae: 16.6730 - val_loss: 1524.5187 - val_mae: 16.0811\n",
      "Epoch 64/100\n",
      "\u001b[1m198/198\u001b[0m \u001b[32m━━━━━━━━━━━━━━━━━━━━\u001b[0m\u001b[37m\u001b[0m \u001b[1m1s\u001b[0m 5ms/step - loss: 1180.5771 - mae: 15.1138 - val_loss: 1477.9099 - val_mae: 15.7918\n",
      "Epoch 65/100\n",
      "\u001b[1m198/198\u001b[0m \u001b[32m━━━━━━━━━━━━━━━━━━━━\u001b[0m\u001b[37m\u001b[0m \u001b[1m2s\u001b[0m 6ms/step - loss: 1348.0336 - mae: 16.0523 - val_loss: 1706.5365 - val_mae: 22.5826\n",
      "Epoch 66/100\n",
      "\u001b[1m198/198\u001b[0m \u001b[32m━━━━━━━━━━━━━━━━━━━━\u001b[0m\u001b[37m\u001b[0m \u001b[1m2s\u001b[0m 8ms/step - loss: 1310.8763 - mae: 16.6641 - val_loss: 1556.3140 - val_mae: 20.3635\n",
      "Epoch 67/100\n",
      "\u001b[1m198/198\u001b[0m \u001b[32m━━━━━━━━━━━━━━━━━━━━\u001b[0m\u001b[37m\u001b[0m \u001b[1m2s\u001b[0m 7ms/step - loss: 1246.8060 - mae: 18.3602 - val_loss: 1423.7179 - val_mae: 18.9120\n",
      "Epoch 68/100\n",
      "\u001b[1m198/198\u001b[0m \u001b[32m━━━━━━━━━━━━━━━━━━━━\u001b[0m\u001b[37m\u001b[0m \u001b[1m1s\u001b[0m 6ms/step - loss: 1272.0621 - mae: 15.5163 - val_loss: 1415.0165 - val_mae: 18.5664\n",
      "Epoch 69/100\n",
      "\u001b[1m198/198\u001b[0m \u001b[32m━━━━━━━━━━━━━━━━━━━━\u001b[0m\u001b[37m\u001b[0m \u001b[1m1s\u001b[0m 6ms/step - loss: 1296.3479 - mae: 16.1495 - val_loss: 1465.4128 - val_mae: 18.5864\n",
      "Epoch 70/100\n",
      "\u001b[1m198/198\u001b[0m \u001b[32m━━━━━━━━━━━━━━━━━━━━\u001b[0m\u001b[37m\u001b[0m \u001b[1m1s\u001b[0m 6ms/step - loss: 1327.6926 - mae: 16.0025 - val_loss: 1261.2300 - val_mae: 14.9247\n",
      "Epoch 71/100\n",
      "\u001b[1m198/198\u001b[0m \u001b[32m━━━━━━━━━━━━━━━━━━━━\u001b[0m\u001b[37m\u001b[0m \u001b[1m1s\u001b[0m 6ms/step - loss: 1129.8700 - mae: 14.0308 - val_loss: 1230.7179 - val_mae: 14.8166\n",
      "Epoch 72/100\n",
      "\u001b[1m198/198\u001b[0m \u001b[32m━━━━━━━━━━━━━━━━━━━━\u001b[0m\u001b[37m\u001b[0m \u001b[1m1s\u001b[0m 5ms/step - loss: 1085.6863 - mae: 14.5685 - val_loss: 1431.5708 - val_mae: 20.5281\n",
      "Epoch 73/100\n",
      "\u001b[1m198/198\u001b[0m \u001b[32m━━━━━━━━━━━━━━━━━━━━\u001b[0m\u001b[37m\u001b[0m \u001b[1m1s\u001b[0m 5ms/step - loss: 889.3311 - mae: 13.7390 - val_loss: 1215.2809 - val_mae: 16.6468\n",
      "Epoch 74/100\n",
      "\u001b[1m198/198\u001b[0m \u001b[32m━━━━━━━━━━━━━━━━━━━━\u001b[0m\u001b[37m\u001b[0m \u001b[1m1s\u001b[0m 5ms/step - loss: 1048.4761 - mae: 14.7503 - val_loss: 1161.4958 - val_mae: 16.4097\n",
      "Epoch 75/100\n",
      "\u001b[1m198/198\u001b[0m \u001b[32m━━━━━━━━━━━━━━━━━━━━\u001b[0m\u001b[37m\u001b[0m \u001b[1m1s\u001b[0m 6ms/step - loss: 810.4360 - mae: 13.1237 - val_loss: 1078.3309 - val_mae: 13.7093\n",
      "Epoch 76/100\n",
      "\u001b[1m198/198\u001b[0m \u001b[32m━━━━━━━━━━━━━━━━━━━━\u001b[0m\u001b[37m\u001b[0m \u001b[1m1s\u001b[0m 6ms/step - loss: 942.0458 - mae: 14.2258 - val_loss: 1121.7181 - val_mae: 14.4193\n",
      "Epoch 77/100\n",
      "\u001b[1m198/198\u001b[0m \u001b[32m━━━━━━━━━━━━━━━━━━━━\u001b[0m\u001b[37m\u001b[0m \u001b[1m1s\u001b[0m 5ms/step - loss: 977.9198 - mae: 13.9854 - val_loss: 1134.4189 - val_mae: 18.0845\n",
      "Epoch 78/100\n",
      "\u001b[1m198/198\u001b[0m \u001b[32m━━━━━━━━━━━━━━━━━━━━\u001b[0m\u001b[37m\u001b[0m \u001b[1m1s\u001b[0m 5ms/step - loss: 911.1066 - mae: 13.8381 - val_loss: 1095.6595 - val_mae: 17.9423\n",
      "Epoch 79/100\n",
      "\u001b[1m198/198\u001b[0m \u001b[32m━━━━━━━━━━━━━━━━━━━━\u001b[0m\u001b[37m\u001b[0m \u001b[1m1s\u001b[0m 6ms/step - loss: 849.2720 - mae: 13.3421 - val_loss: 1231.8561 - val_mae: 19.7935\n",
      "Epoch 80/100\n",
      "\u001b[1m198/198\u001b[0m \u001b[32m━━━━━━━━━━━━━━━━━━━━\u001b[0m\u001b[37m\u001b[0m \u001b[1m1s\u001b[0m 5ms/step - loss: 837.7321 - mae: 14.3068 - val_loss: 926.4291 - val_mae: 12.9756\n",
      "Epoch 81/100\n",
      "\u001b[1m198/198\u001b[0m \u001b[32m━━━━━━━━━━━━━━━━━━━━\u001b[0m\u001b[37m\u001b[0m \u001b[1m1s\u001b[0m 5ms/step - loss: 798.7031 - mae: 12.7226 - val_loss: 930.0701 - val_mae: 13.2910\n",
      "Epoch 82/100\n",
      "\u001b[1m198/198\u001b[0m \u001b[32m━━━━━━━━━━━━━━━━━━━━\u001b[0m\u001b[37m\u001b[0m \u001b[1m1s\u001b[0m 5ms/step - loss: 705.5842 - mae: 12.2903 - val_loss: 956.5605 - val_mae: 15.6508\n",
      "Epoch 83/100\n",
      "\u001b[1m198/198\u001b[0m \u001b[32m━━━━━━━━━━━━━━━━━━━━\u001b[0m\u001b[37m\u001b[0m \u001b[1m1s\u001b[0m 5ms/step - loss: 638.9548 - mae: 11.3545 - val_loss: 827.0334 - val_mae: 12.3236\n",
      "Epoch 84/100\n",
      "\u001b[1m198/198\u001b[0m \u001b[32m━━━━━━━━━━━━━━━━━━━━\u001b[0m\u001b[37m\u001b[0m \u001b[1m1s\u001b[0m 6ms/step - loss: 718.6031 - mae: 13.2589 - val_loss: 865.3371 - val_mae: 14.7408\n",
      "Epoch 85/100\n",
      "\u001b[1m198/198\u001b[0m \u001b[32m━━━━━━━━━━━━━━━━━━━━\u001b[0m\u001b[37m\u001b[0m \u001b[1m1s\u001b[0m 5ms/step - loss: 593.5118 - mae: 11.3105 - val_loss: 880.5306 - val_mae: 13.9659\n",
      "Epoch 86/100\n",
      "\u001b[1m198/198\u001b[0m \u001b[32m━━━━━━━━━━━━━━━━━━━━\u001b[0m\u001b[37m\u001b[0m \u001b[1m1s\u001b[0m 6ms/step - loss: 626.8837 - mae: 11.6227 - val_loss: 819.8203 - val_mae: 13.6914\n",
      "Epoch 87/100\n",
      "\u001b[1m198/198\u001b[0m \u001b[32m━━━━━━━━━━━━━━━━━━━━\u001b[0m\u001b[37m\u001b[0m \u001b[1m1s\u001b[0m 4ms/step - loss: 666.0817 - mae: 13.2619 - val_loss: 749.8522 - val_mae: 12.4643\n",
      "Epoch 88/100\n",
      "\u001b[1m198/198\u001b[0m \u001b[32m━━━━━━━━━━━━━━━━━━━━\u001b[0m\u001b[37m\u001b[0m \u001b[1m1s\u001b[0m 5ms/step - loss: 596.1408 - mae: 12.1466 - val_loss: 717.0052 - val_mae: 12.2723\n",
      "Epoch 89/100\n",
      "\u001b[1m198/198\u001b[0m \u001b[32m━━━━━━━━━━━━━━━━━━━━\u001b[0m\u001b[37m\u001b[0m \u001b[1m1s\u001b[0m 6ms/step - loss: 597.1561 - mae: 11.9261 - val_loss: 718.3008 - val_mae: 11.8740\n",
      "Epoch 90/100\n",
      "\u001b[1m198/198\u001b[0m \u001b[32m━━━━━━━━━━━━━━━━━━━━\u001b[0m\u001b[37m\u001b[0m \u001b[1m1s\u001b[0m 5ms/step - loss: 736.6771 - mae: 12.2217 - val_loss: 685.8758 - val_mae: 12.5870\n",
      "Epoch 91/100\n",
      "\u001b[1m198/198\u001b[0m \u001b[32m━━━━━━━━━━━━━━━━━━━━\u001b[0m\u001b[37m\u001b[0m \u001b[1m2s\u001b[0m 8ms/step - loss: 500.5779 - mae: 11.1525 - val_loss: 680.2517 - val_mae: 13.0694\n",
      "Epoch 92/100\n",
      "\u001b[1m198/198\u001b[0m \u001b[32m━━━━━━━━━━━━━━━━━━━━\u001b[0m\u001b[37m\u001b[0m \u001b[1m1s\u001b[0m 6ms/step - loss: 543.0880 - mae: 11.0701 - val_loss: 663.3327 - val_mae: 12.4916\n",
      "Epoch 93/100\n",
      "\u001b[1m198/198\u001b[0m \u001b[32m━━━━━━━━━━━━━━━━━━━━\u001b[0m\u001b[37m\u001b[0m \u001b[1m1s\u001b[0m 5ms/step - loss: 505.3351 - mae: 11.1356 - val_loss: 721.5289 - val_mae: 15.2229\n",
      "Epoch 94/100\n",
      "\u001b[1m198/198\u001b[0m \u001b[32m━━━━━━━━━━━━━━━━━━━━\u001b[0m\u001b[37m\u001b[0m \u001b[1m1s\u001b[0m 5ms/step - loss: 571.1334 - mae: 12.5119 - val_loss: 677.9777 - val_mae: 14.8111\n",
      "Epoch 95/100\n",
      "\u001b[1m198/198\u001b[0m \u001b[32m━━━━━━━━━━━━━━━━━━━━\u001b[0m\u001b[37m\u001b[0m \u001b[1m1s\u001b[0m 5ms/step - loss: 482.2999 - mae: 11.5442 - val_loss: 570.1856 - val_mae: 11.3159\n",
      "Epoch 96/100\n",
      "\u001b[1m198/198\u001b[0m \u001b[32m━━━━━━━━━━━━━━━━━━━━\u001b[0m\u001b[37m\u001b[0m \u001b[1m1s\u001b[0m 5ms/step - loss: 413.2532 - mae: 10.4715 - val_loss: 596.8235 - val_mae: 12.3338\n",
      "Epoch 97/100\n",
      "\u001b[1m198/198\u001b[0m \u001b[32m━━━━━━━━━━━━━━━━━━━━\u001b[0m\u001b[37m\u001b[0m \u001b[1m1s\u001b[0m 6ms/step - loss: 424.0414 - mae: 10.7619 - val_loss: 586.1348 - val_mae: 12.8881\n",
      "Epoch 98/100\n",
      "\u001b[1m198/198\u001b[0m \u001b[32m━━━━━━━━━━━━━━━━━━━━\u001b[0m\u001b[37m\u001b[0m \u001b[1m1s\u001b[0m 5ms/step - loss: 412.2696 - mae: 10.4681 - val_loss: 530.7906 - val_mae: 10.5717\n",
      "Epoch 99/100\n",
      "\u001b[1m198/198\u001b[0m \u001b[32m━━━━━━━━━━━━━━━━━━━━\u001b[0m\u001b[37m\u001b[0m \u001b[1m1s\u001b[0m 5ms/step - loss: 429.1795 - mae: 11.1100 - val_loss: 555.3449 - val_mae: 12.6197\n",
      "Epoch 100/100\n",
      "\u001b[1m198/198\u001b[0m \u001b[32m━━━━━━━━━━━━━━━━━━━━\u001b[0m\u001b[37m\u001b[0m \u001b[1m1s\u001b[0m 6ms/step - loss: 381.1803 - mae: 10.3140 - val_loss: 494.9171 - val_mae: 10.7079\n",
      "\u001b[1m109/109\u001b[0m \u001b[32m━━━━━━━━━━━━━━━━━━━━\u001b[0m\u001b[37m\u001b[0m \u001b[1m0s\u001b[0m 3ms/step\n",
      "R² Score on Test Set: 0.9485\n"
     ]
    },
    {
     "data": {
      "image/png": "[encoded data removed]",
      "text/plain": [
       "<Figure size 1000x500 with 1 Axes>"
      ]
     },
     "metadata": {},
     "output_type": "display_data"
    }
   ],
   "source": [
    "from tensorflow.keras.models import Sequential\n",
    "from tensorflow.keras.layers import Dense\n",
    "# Define the model\n",
    "model = Sequential([\n",
    "    Dense(64, activation='relu', input_shape=(x_train.shape[1],)),\n",
    "    Dense(32, activation='relu'),\n",
    "    Dense(1)\n",
    "])\n",
    "\n",
    "# Compile the model\n",
    "model.compile(optimizer='adam', loss='mse', metrics=['mae'])\n",
    "\n",
    "# Train the model and store history\n",
    "history = model.fit(x_train, y_train, epochs=100, batch_size=32, validation_split=0.1, verbose=1)\n",
    "\n",
    "# Predict on test data\n",
    "y_pred = model.predict(x_test)\n",
    "\n",
    "# Calculate R² Score\n",
    "r2 = r2_score(y_test, y_pred)\n",
    "print(f\"R² Score on Test Set: {r2:.4f}\")\n",
    "\n",
    "# Plot Training Loss & Validation Loss\n",
    "plt.figure(figsize=(10, 5))\n",
    "plt.plot(history.history['loss'], label='Training Loss', color='blue')\n",
    "plt.plot(history.history['val_loss'], label='Validation Loss', color='red')\n",
    "plt.xlabel('Epochs')\n",
    "plt.ylabel('Loss (MSE)')\n",
    "plt.title('Training & Validation Loss over Epochs')\n",
    "plt.legend()\n",
    "plt.grid()\n",
    "plt.show()"
   ]
  },
  {
   "cell_type": "code",
   "execution_count": 46,
   "id": "ad6642d1-731d-402a-8a4a-987a492f9f1d",
   "metadata": {},
   "outputs": [],
   "source": [
    "def predict(x_value,y_value):\n",
    "    print('actual:',y_value)\n",
    "    print('predicted : ',np.array(model.predict(x_value)).flatten()[0])"
   ]
  },
  {
   "cell_type": "code",
   "execution_count": 47,
   "id": "fb904289",
   "metadata": {},
   "outputs": [
    {
     "data": {
      "text/plain": [
       "array([[3.        , 2.        , 3.        , 6.17586727, 8.36789369,\n",
       "        1.        , 0.        , 0.        , 0.        , 0.        ,\n",
       "        1.        , 0.        , 0.        , 0.        , 0.        ,\n",
       "        0.        , 0.        , 0.        , 0.        , 0.        ,\n",
       "        0.        , 0.        , 0.        , 0.        , 0.        ,\n",
       "        0.        , 0.        , 0.        , 0.        , 0.        ,\n",
       "        0.        , 0.        , 0.        , 0.        , 0.        ,\n",
       "        0.        , 0.        , 0.        , 0.        , 0.        ,\n",
       "        0.        , 0.        , 0.        , 0.        , 0.        ,\n",
       "        0.        , 0.        , 0.        , 0.        , 0.        ,\n",
       "        0.        , 0.        , 0.        , 0.        , 0.        ,\n",
       "        0.        , 0.        , 0.        , 0.        , 0.        ,\n",
       "        0.        , 0.        , 0.        , 0.        , 0.        ,\n",
       "        0.        , 0.        , 0.        , 0.        , 0.        ,\n",
       "        0.        , 0.        , 0.        , 0.        , 0.        ,\n",
       "        0.        , 0.        , 0.        , 0.        , 0.        ,\n",
       "        0.        , 0.        , 0.        , 0.        , 0.        ,\n",
       "        0.        , 0.        , 0.        , 0.        , 0.        ,\n",
       "        0.        , 0.        , 0.        , 0.        , 0.        ,\n",
       "        0.        , 0.        , 0.        , 0.        , 0.        ,\n",
       "        0.        , 0.        , 0.        , 0.        , 0.        ,\n",
       "        0.        , 0.        , 0.        , 0.        , 0.        ,\n",
       "        0.        , 0.        , 0.        , 0.        , 0.        ,\n",
       "        0.        , 0.        , 0.        , 0.        , 0.        ,\n",
       "        0.        , 0.        , 0.        , 0.        , 0.        ,\n",
       "        0.        , 0.        , 0.        , 0.        , 0.        ,\n",
       "        0.        , 0.        , 0.        , 0.        , 0.        ,\n",
       "        0.        , 0.        , 0.        , 0.        , 0.        ,\n",
       "        0.        , 0.        , 0.        , 0.        , 0.        ,\n",
       "        0.        , 0.        , 0.        , 0.        , 0.        ,\n",
       "        0.        , 0.        , 0.        , 0.        , 0.        ,\n",
       "        0.        , 0.        , 0.        , 0.        , 0.        ,\n",
       "        0.        , 0.        , 0.        , 0.        , 0.        ,\n",
       "        0.        , 0.        , 0.        , 0.        , 0.        ,\n",
       "        0.        , 0.        , 0.        , 0.        , 0.        ,\n",
       "        0.        , 0.        , 0.        , 0.        , 0.        ,\n",
       "        0.        , 0.        , 0.        , 0.        , 0.        ,\n",
       "        0.        , 0.        , 0.        , 0.        , 0.        ,\n",
       "        0.        , 0.        , 0.        , 0.        , 0.        ,\n",
       "        0.        , 0.        , 0.        , 0.        , 0.        ,\n",
       "        0.        , 0.        , 0.        , 0.        , 0.        ,\n",
       "        0.        , 0.        , 0.        , 0.        , 0.        ,\n",
       "        0.        , 0.        , 0.        , 0.        , 0.        ,\n",
       "        0.        , 0.        , 0.        , 0.        , 0.        ,\n",
       "        0.        , 0.        , 0.        , 0.        , 0.        ,\n",
       "        0.        , 0.        , 0.        , 0.        , 0.        ,\n",
       "        0.        , 0.        , 0.        , 0.        , 0.        ,\n",
       "        0.        , 0.        , 0.        , 0.        , 1.        ,\n",
       "        0.        , 0.        , 0.        , 0.        , 0.        ,\n",
       "        0.        , 0.        , 0.        , 0.        , 0.        ,\n",
       "        0.        , 0.        , 0.        , 0.        ]])"
      ]
     },
     "execution_count": 47,
     "metadata": {},
     "output_type": "execute_result"
    }
   ],
   "source": [
    "x.iloc[2,:].values.reshape(1,-1)"
   ]
  },
  {
   "cell_type": "code",
   "execution_count": 48,
   "id": "1e78d947",
   "metadata": {},
   "outputs": [
    {
     "name": "stdout",
     "output_type": "stream",
     "text": [
      "actual: 62.0\n",
      "\u001b[1m1/1\u001b[0m \u001b[32m━━━━━━━━━━━━━━━━━━━━\u001b[0m\u001b[37m\u001b[0m \u001b[1m0s\u001b[0m 70ms/step\n",
      "predicted :  68.486786\n"
     ]
    }
   ],
   "source": [
    "predict(x.iloc[2,:].values.reshape(1,-1),y[2])"
   ]
  },
  {
   "cell_type": "code",
   "execution_count": 49,
   "id": "f7af0f1c",
   "metadata": {},
   "outputs": [
    {
     "name": "stdout",
     "output_type": "stream",
     "text": [
      "actual: 95.0\n",
      "\u001b[1m1/1\u001b[0m \u001b[32m━━━━━━━━━━━━━━━━━━━━\u001b[0m\u001b[37m\u001b[0m \u001b[1m0s\u001b[0m 56ms/step\n",
      "predicted :  92.53852\n"
     ]
    }
   ],
   "source": [
    "predict(x.iloc[3,:].values.reshape(1,-1),y[3])"
   ]
  },
  {
   "cell_type": "code",
   "execution_count": 50,
   "id": "5d45779b",
   "metadata": {},
   "outputs": [
    {
     "name": "stdout",
     "output_type": "stream",
     "text": [
      "actual: 51.0\n",
      "\u001b[1m1/1\u001b[0m \u001b[32m━━━━━━━━━━━━━━━━━━━━\u001b[0m\u001b[37m\u001b[0m \u001b[1m0s\u001b[0m 66ms/step\n",
      "predicted :  45.30361\n"
     ]
    }
   ],
   "source": [
    "predict(x.iloc[4,:].values.reshape(1,-1),y[4])"
   ]
  },
  {
   "cell_type": "code",
   "execution_count": 51,
   "id": "40b14864",
   "metadata": {},
   "outputs": [
    {
     "name": "stdout",
     "output_type": "stream",
     "text": [
      "actual: 63.25\n",
      "\u001b[1m1/1\u001b[0m \u001b[32m━━━━━━━━━━━━━━━━━━━━\u001b[0m\u001b[37m\u001b[0m \u001b[1m0s\u001b[0m 66ms/step\n",
      "predicted :  54.658875\n"
     ]
    }
   ],
   "source": [
    "predict(x.iloc[6,:].values.reshape(1,-1),y[6])"
   ]
  },
  {
   "cell_type": "code",
   "execution_count": 55,
   "id": "382e139d",
   "metadata": {},
   "outputs": [
    {
     "name": "stdout",
     "output_type": "stream",
     "text": [
      "actual: 148.0\n",
      "\u001b[1m1/1\u001b[0m \u001b[32m━━━━━━━━━━━━━━━━━━━━\u001b[0m\u001b[37m\u001b[0m \u001b[1m0s\u001b[0m 76ms/step\n",
      "predicted :  147.10588\n"
     ]
    }
   ],
   "source": [
    "predict(x.iloc[11,:].values.reshape(1,-1),y[11])"
   ]
  },
  {
   "cell_type": "code",
   "execution_count": 56,
   "id": "dae60a59",
   "metadata": {},
   "outputs": [
    {
     "name": "stderr",
     "output_type": "stream",
     "text": [
      "WARNING:absl:You are saving your model as an HDF5 file via `model.save()` or `keras.saving.save_model(model)`. This file format is considered legacy. We recommend using instead the native Keras format, e.g. `model.save('my_model.keras')` or `keras.saving.save_model(model, 'my_model.keras')`. \n"
     ]
    }
   ],
   "source": [
    "# Save model (folder format)\n",
    "model.save('regression_model.h5')  # HDF5 format\n"
   ]
  },
  {
   "cell_type": "code",
   "execution_count": 34,
   "id": "4abdc27f",
   "metadata": {},
   "outputs": [],
   "source": [
    "columns=df.columns"
   ]
  },
  {
   "cell_type": "code",
   "execution_count": 35,
   "id": "00dac3bd",
   "metadata": {},
   "outputs": [
    {
     "name": "stdout",
     "output_type": "stream",
     "text": [
      "Index(['size', 'bath', 'balcony', 'price', 'per_sqft', 'price_per_sqft',\n",
      "       'area_type_Built-up  Area', 'area_type_Carpet  Area',\n",
      "       'area_type_Plot  Area', 'area_type_Super built-up  Area',\n",
      "       ...\n",
      "       'location_Vijayanagar', 'location_Vishveshwarya Layout',\n",
      "       'location_Vishwapriya Layout', 'location_Vittasandra',\n",
      "       'location_Whitefield', 'location_Yelachenahalli', 'location_Yelahanka',\n",
      "       'location_Yelahanka New Town', 'location_Yelenahalli',\n",
      "       'location_Yeshwanthpur'],\n",
      "      dtype='object', length=255)\n"
     ]
    }
   ],
   "source": [
    "print(columns)"
   ]
  },
  {
   "cell_type": "code",
   "execution_count": 36,
   "id": "be3f71ed",
   "metadata": {},
   "outputs": [
    {
     "data": {
      "text/plain": [
       "Index(['area_type_Built-up  Area', 'area_type_Carpet  Area',\n",
       "       'area_type_Plot  Area', 'area_type_Super built-up  Area',\n",
       "       'availability_On Date', 'availability_Ready To Move',\n",
       "       'location_ Devarachikkanahalli', 'location_1st Block Jayanagar',\n",
       "       'location_1st Block Koramangala', 'location_1st Phase JP Nagar',\n",
       "       ...\n",
       "       'location_Vijayanagar', 'location_Vishveshwarya Layout',\n",
       "       'location_Vishwapriya Layout', 'location_Vittasandra',\n",
       "       'location_Whitefield', 'location_Yelachenahalli', 'location_Yelahanka',\n",
       "       'location_Yelahanka New Town', 'location_Yelenahalli',\n",
       "       'location_Yeshwanthpur'],\n",
       "      dtype='object', length=249)"
      ]
     },
     "execution_count": 36,
     "metadata": {},
     "output_type": "execute_result"
    }
   ],
   "source": [
    "columns[6:]"
   ]
  },
  {
   "cell_type": "code",
   "execution_count": 30,
   "id": "680652b3",
   "metadata": {},
   "outputs": [
    {
     "name": "stdout",
     "output_type": "stream",
     "text": [
      "['Built-up  Area', 'Carpet  Area', 'Plot  Area', 'Super built-up  Area']\n"
     ]
    }
   ],
   "source": [
    "area_columns = [col.split('area_type_')[1] for col in columns if col.startswith('area_')]\n",
    "print(area_columns)"
   ]
  },
  {
   "cell_type": "code",
   "execution_count": 32,
   "id": "0ef0524b",
   "metadata": {},
   "outputs": [
    {
     "name": "stdout",
     "output_type": "stream",
     "text": [
      "['Devarachikkanahalli', '1st Block Jayanagar', '1st Block Koramangala', '1st Phase JP Nagar', '2nd Stage Nagarbhavi', '5th Phase JP Nagar', '6th Phase JP Nagar', '7th Phase JP Nagar', '8th Phase JP Nagar', '9th Phase JP Nagar', 'AECS Layout', 'Abbigere', 'Akshaya Nagar', 'Ambalipura', 'Ambedkar Nagar', 'Amruthahalli', 'Anandapura', 'Ananth Nagar', 'Anekal', 'Anjanapura', 'Ardendale', 'Arekere', 'Attibele', 'BTM 2nd Stage', 'BTM Layout', 'Babusapalaya', 'Balagere', 'Banashankari', 'Banashankari Stage II', 'Banashankari Stage III', 'Banashankari Stage V', 'Banashankari Stage VI', 'Banaswadi', 'Banjara Layout', 'Bannerghatta', 'Bannerghatta Road', 'Basavangudi', 'Basaveshwara Nagar', 'Battarahalli', 'Begur', 'Begur Road', 'Bellandur', 'Benson Town', 'Bharathi Nagar', 'Bhoganhalli', 'Billekahalli', 'Binny Pete', 'Bisuvanahalli', 'Bommanahalli', 'Bommasandra', 'Bommasandra Industrial Area', 'Bommenahalli', 'Brookefield', 'Budigere', 'CV Raman Nagar', 'Chamrajpet', 'Chandapura', 'Channasandra', 'Chikka Tirupathi', 'Chikkabanavar', 'Chikkalasandra', 'Choodasandra', 'Cooke Town', 'Cox Town', 'Cunningham Road', 'Dairy Circle', 'Dasanapura', 'Dasarahalli', 'Devanahalli', 'Dodda Nekkundi', 'Doddaballapur', 'Doddakallasandra', 'Doddathoguru', 'Domlur', 'Dommasandra', 'EPIP Zone', 'Electronic City', 'Electronic City Phase II', 'Electronics City Phase 1', 'Frazer Town', 'GM Palaya', 'Ganga Nagar', 'Garudachar Palya', 'Giri Nagar', 'Gollarapalya Hosahalli', 'Gottigere', 'Green Glen Layout', 'Gubbalala', 'Gunjur', 'Gunjur Palya', 'HAL 2nd Stage', 'HBR Layout', 'HRBR Layout', 'HSR Layout', 'Haralur Road', 'Harlur', 'Hebbal', 'Hebbal Kempapura', 'Hegde Nagar', 'Hennur', 'Hennur Road', 'Hoodi', 'Horamavu Agara', 'Horamavu Banaswadi', 'Hormavu', 'Hosa Road', 'Hosakerehalli', 'Hoskote', 'Hosur Road', 'Hulimavu', 'ISRO Layout', 'ITPL', 'Iblur Village', 'Indira Nagar', 'JP Nagar', 'Jakkur', 'Jalahalli', 'Jalahalli East', 'Jigani', 'Judicial Layout', 'KR Puram', 'Kadubeesanahalli', 'Kadugodi', 'Kaggadasapura', 'Kaggalipura', 'Kaikondrahalli', 'Kalena Agrahara', 'Kalkere', 'Kalyan nagar', 'Kambipura', 'Kammanahalli', 'Kammasandra', 'Kanakapura', 'Kanakpura Road', 'Kannamangala', 'Karuna Nagar', 'Kasavanhalli', 'Kasturi Nagar', 'Kathriguppe', 'Kaval Byrasandra', 'Kenchenahalli', 'Kengeri', 'Kengeri Satellite Town', 'Kereguddadahalli', 'Kodichikkanahalli', 'Kodigehaali', 'Kodigehalli', 'Kodihalli', 'Kogilu', 'Konanakunte', 'Koramangala', 'Kothannur', 'Kothanur', 'Kudlu', 'Kudlu Gate', 'Kumaraswami Layout', 'Kundalahalli', 'LB Shastri Nagar', 'Laggere', 'Lakshminarayana Pura', 'Lingadheeranahalli', 'Magadi Road', 'Mahadevpura', 'Mahalakshmi Layout', 'Mallasandra', 'Malleshpalya', 'Malleshwaram', 'Marathahalli', 'Margondanahalli', 'Marsur', 'Mico Layout', 'Munnekollal', 'Murugeshpalya', 'Mysore Road', 'NGR Layout', 'NRI Layout', 'Naganathapura', 'Nagappa Reddy Layout', 'Nagarbhavi', 'Nagasandra', 'Nagavara', 'Nagavarapalya', 'Narayanapura', 'Neeladri Nagar', 'OMBR Layout', 'Old Airport Road', 'Old Madras Road', 'Other', 'Padmanabhanagar', 'Pai Layout', 'Panathur', 'Pattandur Agrahara', 'Poorna Pragna Layout', 'Prithvi Layout', 'R.T. Nagar', 'Rachenahalli', 'Raja Rajeshwari Nagar', 'Rajaji Nagar', 'Rajiv Nagar', 'Ramagondanahalli', 'Ramamurthy Nagar', 'Rayasandra', 'Sahakara Nagar', 'Sanjay nagar', 'Sarakki Nagar', 'Sarjapur', 'Sarjapur  Road', 'Sarjapura - Attibele Road', 'Sector 2 HSR Layout', 'Sector 7 HSR Layout', 'Seegehalli', 'Shampura', 'Shivaji Nagar', 'Singasandra', 'Somasundara Palya', 'Sompura', 'Sonnenahalli', 'Subramanyapura', 'Sultan Palaya', 'TC Palaya', 'Talaghattapura', 'Thanisandra', 'Thigalarapalya', 'Thubarahalli', 'Thyagaraja Nagar', 'Tindlu', 'Tumkur Road', 'Ulsoor', 'Uttarahalli', 'Varthur', 'Varthur Road', 'Vasanthapura', 'Vidyaranyapura', 'Vijayanagar', 'Vishveshwarya Layout', 'Vishwapriya Layout', 'Vittasandra', 'Whitefield', 'Yelachenahalli', 'Yelahanka', 'Yelahanka New Town', 'Yelenahalli', 'Yeshwanthpur']\n"
     ]
    }
   ],
   "source": [
    "location_columns = [col.split('location_')[1].strip() for col in columns if col.startswith('location_')]\n",
    "print(location_columns)"
   ]
  },
  {
   "cell_type": "code",
   "execution_count": 33,
   "id": "2b637529",
   "metadata": {},
   "outputs": [
    {
     "name": "stdout",
     "output_type": "stream",
     "text": [
      "['On Date', 'Ready To Move']\n"
     ]
    }
   ],
   "source": [
    "availability_columns = [col.split('availability_')[1].strip() for col in columns if col.startswith('availability_')]\n",
    "print(availability_columns)"
   ]
  },
  {
   "cell_type": "code",
   "execution_count": null,
   "id": "e62bd6b5",
   "metadata": {},
   "outputs": [],
   "source": [
    "data={\n",
    "    'area_type_':area_columns,\n",
    "    'location_':location_columns,\n",
    "    'availability_':availability_columns\n",
    "}"
   ]
  },
  {
   "cell_type": "code",
   "execution_count": 35,
   "id": "fb8f6542",
   "metadata": {},
   "outputs": [
    {
     "name": "stdout",
     "output_type": "stream",
     "text": [
      "JSON file created successfully!\n"
     ]
    }
   ],
   "source": [
    "import json\n",
    "# Write to a JSON file\n",
    "with open(\"property_data.json\", \"w\") as file:\n",
    "    json.dump(data, file, indent=4)\n",
    "\n",
    "print(\"JSON file created successfully!\")"
   ]
  },
  {
   "cell_type": "code",
   "execution_count": null,
   "id": "b2775e25",
   "metadata": {},
   "outputs": [],
   "source": []
  }
 ],
 "metadata": {
  "kernelspec": {
   "display_name": "env",
   "language": "python",
   "name": "python3"
  },
  "language_info": {
   "codemirror_mode": {
    "name": "ipython",
    "version": 3
   },
   "file_extension": ".py",
   "mimetype": "text/x-python",
   "name": "python",
   "nbconvert_exporter": "python",
   "pygments_lexer": "ipython3",
   "version": "3.12.3"
  }
 },
 "nbformat": 4,
 "nbformat_minor": 5
}
